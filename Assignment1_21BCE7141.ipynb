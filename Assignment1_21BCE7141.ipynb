{
  "nbformat": 4,
  "nbformat_minor": 0,
  "metadata": {
    "colab": {
      "provenance": []
    },
    "kernelspec": {
      "name": "python3",
      "display_name": "Python 3"
    },
    "language_info": {
      "name": "python"
    }
  },
  "cells": [
    {
      "cell_type": "markdown",
      "source": [
        "# **AI ML Assignment 1**"
      ],
      "metadata": {
        "id": "cZJoRwMV76qM"
      }
    },
    {
      "cell_type": "markdown",
      "source": [
        "**Task:**\n",
        "1.   Create a pandas dataframe (DataFrame name as 'df') with numpy random values (4 features and 4 observation)\n",
        "2.    Rename the task - 1 'df' dataframe column names to 'Random value 1', 'Random value 2', 'Random value 3' & 'Random value 4'\n",
        "\n",
        "1.   Find the descriptive statistics of the 'df' dataframe.\n",
        "2.   Check for the null values in 'df' and find the data type of the columns.\n",
        "\n",
        "1.   Display the 'Random value 2' & 'Random value 3' columns with location method and index location method.\n",
        "\n",
        "\n",
        "\n",
        "\n",
        "\n",
        "\n",
        "\n"
      ],
      "metadata": {
        "id": "67ApUVIQ8KIy"
      }
    },
    {
      "cell_type": "markdown",
      "source": [
        "***-- Sri Sai Ratna Abhishek Kosuri  (21BCE7141)  VIT-AP***\n"
      ],
      "metadata": {
        "id": "T34fRvKt-J8L"
      }
    },
    {
      "cell_type": "markdown",
      "source": [
        "# Create a pandas dataframe (DataFrame name as 'df') with numpy random values (4 features and 4 observation)"
      ],
      "metadata": {
        "id": "7sG_FD7h9Jab"
      }
    },
    {
      "cell_type": "code",
      "execution_count": 14,
      "metadata": {
        "colab": {
          "base_uri": "https://localhost:8080/"
        },
        "id": "q-bgqbi84ZMd",
        "outputId": "91343340-847b-4fa7-ef6e-8413f18f6b63"
      },
      "outputs": [
        {
          "output_type": "stream",
          "name": "stdout",
          "text": [
            "   Feature1  Feature2  Feature3  Feature4\n",
            "0  0.374540  0.950714  0.731994  0.598658\n",
            "1  0.156019  0.155995  0.058084  0.866176\n",
            "2  0.601115  0.708073  0.020584  0.969910\n",
            "3  0.832443  0.212339  0.181825  0.183405\n"
          ]
        }
      ],
      "source": [
        "import pandas as pd\n",
        "import numpy as np\n",
        "\n",
        "# Set seed for reproducibility (optional)\n",
        "np.random.seed(42)\n",
        "\n",
        "# Generating random values\n",
        "num_observation = 4\n",
        "num_features = 4\n",
        "random_values = np.random.rand(num_observation, num_features)\n",
        "\n",
        "# Creating DataFrame\n",
        "df = pd.DataFrame(random_values, columns=['Feature1', 'Feature2', 'Feature3', 'Feature4'])\n",
        "\n",
        "print(df)\n"
      ]
    },
    {
      "cell_type": "markdown",
      "source": [
        "# Rename the task - 1 'df' dataframe column names to 'Random value 1', 'Random value 2', 'Random value 3' & 'Random value 4'"
      ],
      "metadata": {
        "id": "24Cd9Zx-9VcR"
      }
    },
    {
      "cell_type": "code",
      "source": [
        "# Renaming columns\n",
        "new_column_names = {\n",
        "    'Feature1': 'Random Value 1',\n",
        "    'Feature2': 'Random Value 2',\n",
        "    'Feature3': 'Random Value 3',\n",
        "    'Feature4': 'Random Value 4'\n",
        "}\n",
        "df = df.rename(columns=new_column_names)\n",
        "\n",
        "print(df)"
      ],
      "metadata": {
        "colab": {
          "base_uri": "https://localhost:8080/"
        },
        "id": "LvCpOMWH5PtP",
        "outputId": "81588c06-83a1-4877-e22b-e80c3302ee4f"
      },
      "execution_count": 15,
      "outputs": [
        {
          "output_type": "stream",
          "name": "stdout",
          "text": [
            "   Random Value 1  Random Value 2  Random Value 3  Random Value 4\n",
            "0        0.374540        0.950714        0.731994        0.598658\n",
            "1        0.156019        0.155995        0.058084        0.866176\n",
            "2        0.601115        0.708073        0.020584        0.969910\n",
            "3        0.832443        0.212339        0.181825        0.183405\n"
          ]
        }
      ]
    },
    {
      "cell_type": "markdown",
      "source": [
        "# Find the descriptive statistics of the 'df' dataframe."
      ],
      "metadata": {
        "id": "ZjB8iIMq9YR8"
      }
    },
    {
      "cell_type": "code",
      "source": [
        "# Displaying descriptive statistics\n",
        "descriptive_stats= df.describe()\n",
        "print (descriptive_stats)"
      ],
      "metadata": {
        "colab": {
          "base_uri": "https://localhost:8080/"
        },
        "id": "DQUnFtA15U0r",
        "outputId": "48bb3634-5c9e-4f22-fa1c-a90ec2b2b4e8"
      },
      "execution_count": 16,
      "outputs": [
        {
          "output_type": "stream",
          "name": "stdout",
          "text": [
            "       Random Value 1  Random Value 2  Random Value 3  Random Value 4\n",
            "count        4.000000        4.000000        4.000000        4.000000\n",
            "mean         0.491029        0.506780        0.248122        0.654537\n",
            "std          0.291252        0.386153        0.329856        0.350875\n",
            "min          0.156019        0.155995        0.020584        0.183405\n",
            "25%          0.319910        0.198253        0.048709        0.494845\n",
            "50%          0.487828        0.460206        0.119954        0.732417\n",
            "75%          0.658947        0.768733        0.319367        0.892110\n",
            "max          0.832443        0.950714        0.731994        0.969910\n"
          ]
        }
      ]
    },
    {
      "cell_type": "markdown",
      "source": [
        "# Check for the null values in 'df' and find the data type of the columns."
      ],
      "metadata": {
        "id": "9HwFRPt59cYU"
      }
    },
    {
      "cell_type": "code",
      "source": [
        "# Checking for null values\n",
        "null_values= df.isnull().sum()\n",
        "\n",
        "# Finding data types of columns\n",
        "data_types = df.dtypes\n",
        "\n",
        "print(\"Nu11 Values:\")\n",
        "print(null_values)\n",
        "print( \"\\nData Types:\")\n",
        "print(data_types)"
      ],
      "metadata": {
        "colab": {
          "base_uri": "https://localhost:8080/"
        },
        "id": "gNQLG_oS5boz",
        "outputId": "5246634f-6764-45e0-a999-901540535a5c"
      },
      "execution_count": 17,
      "outputs": [
        {
          "output_type": "stream",
          "name": "stdout",
          "text": [
            "Nu11 Values:\n",
            "Random Value 1    0\n",
            "Random Value 2    0\n",
            "Random Value 3    0\n",
            "Random Value 4    0\n",
            "dtype: int64\n",
            "\n",
            "Data Types:\n",
            "Random Value 1    float64\n",
            "Random Value 2    float64\n",
            "Random Value 3    float64\n",
            "Random Value 4    float64\n",
            "dtype: object\n"
          ]
        }
      ]
    },
    {
      "cell_type": "markdown",
      "source": [
        "# Display the 'Random value 2' & 'Random value 3' columns with location method and index location method."
      ],
      "metadata": {
        "id": "q9wFKw5Z9e8N"
      }
    },
    {
      "cell_type": "code",
      "source": [
        "# Accessing columns using loc[]\n",
        "random_value_2_loc = df.loc[:, 'Random Value 2']\n",
        "random_value_3_loc = df.loc[:, 'Random Value 3']\n",
        "\n",
        "print(\"Using .loc[]:\")\n",
        "print(random_value_2_loc)\n",
        "print(random_value_3_loc)"
      ],
      "metadata": {
        "colab": {
          "base_uri": "https://localhost:8080/"
        },
        "id": "JAGIlDfv5cRS",
        "outputId": "b4d45d29-f2da-48b6-ddf3-63cfc43b0105"
      },
      "execution_count": 18,
      "outputs": [
        {
          "output_type": "stream",
          "name": "stdout",
          "text": [
            "Using .loc[]:\n",
            "0    0.950714\n",
            "1    0.155995\n",
            "2    0.708073\n",
            "3    0.212339\n",
            "Name: Random Value 2, dtype: float64\n",
            "0    0.731994\n",
            "1    0.058084\n",
            "2    0.020584\n",
            "3    0.181825\n",
            "Name: Random Value 3, dtype: float64\n"
          ]
        }
      ]
    }
  ]
}